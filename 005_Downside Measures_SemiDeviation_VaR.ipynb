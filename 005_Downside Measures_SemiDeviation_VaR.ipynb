{
 "cells": [
  {
   "cell_type": "markdown",
   "metadata": {},
   "source": [
    "# Downside Measures: \n",
    "## SemiDeviation, VaR and CVaR\n",
    "\n",
    "\n",
    "We're going to look at a few measures of downside risk. We've already seen how to compute drawdowns, but we're going to look at 3 popular measures.\n",
    "\n",
    "The first measure is the simplest, which is the semideviation, it's nothing more than the volatility of the subset of returns that are negative. It's an alternative measurement to standard deviation or variance and a method of measuring the below-mean fluctuations in the returns on investment. Semi-deviation will reveal the worst-case performance to be expected from a risky investment. \n",
    "\n",
    "The second measure is Value at risk (VaR) is a statistic that measures and quantifies the level of financial risk within a firm, portfolio or position over a specific time frame. This metric is most commonly used by investment and commercial banks to determine the extent and occurrence ratio of potential losses in their institutional portfolios. Risk managers use VaR to measure and control the level of risk exposure. One can apply VaR calculations to specific positions or whole portfolios or to measure firm-wide risk exposure.\n",
    "\n",
    "The third measure of downside risk is Conditional Value at Risk (CVaR), also known as the expected shortfall, is a risk assessment measure that quantifies the amount of tail risk an investment portfolio has. CVaR is derived by taking a weighted average of the “extreme” losses in the tail of the distribution of possible returns, beyond the value at risk (VaR) cutoff point. It's used in portfolio optimization for effective risk management."
   ]
  },
  {
   "cell_type": "code",
   "execution_count": 1,
   "metadata": {},
   "outputs": [],
   "source": [
    "import pandas as pd\n",
    "import numpy  as np\n",
    "from scipy.stats import norm\n",
    "from scipy.stats import skew\n",
    "from scipy.stats import kurtosis\n",
    "%matplotlib inline"
   ]
  },
  {
   "cell_type": "markdown",
   "metadata": {},
   "source": [
    "First we will import the data from github"
   ]
  },
  {
   "cell_type": "code",
   "execution_count": 2,
   "metadata": {},
   "outputs": [],
   "source": [
    "def get_hfi_returns():\n",
    "    \"\"\"\n",
    "    Load and format the GSF Hedge Fund Index Returns\n",
    "    \"\"\"\n",
    "    gsf_hedgefundindices = 'https://raw.githubusercontent.com/safarini/GSF/master/001_gsf_hedgefundindices.csv'\n",
    "    hfi = pd.read_csv(gsf_hedgefundindices, header=0, index_col=0, parse_dates=True)\n",
    "    hfi = hfi/100\n",
    "    hfi.index = hfi.index.to_period('M')\n",
    "    return hfi"
   ]
  },
  {
   "cell_type": "code",
   "execution_count": 3,
   "metadata": {},
   "outputs": [],
   "source": [
    "# Assign the data to hfi\n",
    "hfi = get_hfi_returns()"
   ]
  },
  {
   "cell_type": "code",
   "execution_count": 4,
   "metadata": {},
   "outputs": [
    {
     "data": {
      "text/html": [
       "<div>\n",
       "<style scoped>\n",
       "    .dataframe tbody tr th:only-of-type {\n",
       "        vertical-align: middle;\n",
       "    }\n",
       "\n",
       "    .dataframe tbody tr th {\n",
       "        vertical-align: top;\n",
       "    }\n",
       "\n",
       "    .dataframe thead th {\n",
       "        text-align: right;\n",
       "    }\n",
       "</style>\n",
       "<table border=\"1\" class=\"dataframe\">\n",
       "  <thead>\n",
       "    <tr style=\"text-align: right;\">\n",
       "      <th></th>\n",
       "      <th>Convertible Arbitrage</th>\n",
       "      <th>CTA Global</th>\n",
       "      <th>Distressed Securities</th>\n",
       "      <th>Emerging Markets</th>\n",
       "      <th>Equity Market Neutral</th>\n",
       "      <th>Event Driven</th>\n",
       "      <th>Fixed Income Arbitrage</th>\n",
       "      <th>Global Macro</th>\n",
       "      <th>Long/Short Equity</th>\n",
       "      <th>Merger Arbitrage</th>\n",
       "      <th>Relative Value</th>\n",
       "      <th>Short Selling</th>\n",
       "      <th>Funds Of Funds</th>\n",
       "    </tr>\n",
       "    <tr>\n",
       "      <th>date</th>\n",
       "      <th></th>\n",
       "      <th></th>\n",
       "      <th></th>\n",
       "      <th></th>\n",
       "      <th></th>\n",
       "      <th></th>\n",
       "      <th></th>\n",
       "      <th></th>\n",
       "      <th></th>\n",
       "      <th></th>\n",
       "      <th></th>\n",
       "      <th></th>\n",
       "      <th></th>\n",
       "    </tr>\n",
       "  </thead>\n",
       "  <tbody>\n",
       "    <tr>\n",
       "      <th>1997-01</th>\n",
       "      <td>0.0119</td>\n",
       "      <td>0.0393</td>\n",
       "      <td>0.0178</td>\n",
       "      <td>0.0791</td>\n",
       "      <td>0.0189</td>\n",
       "      <td>0.0213</td>\n",
       "      <td>0.0191</td>\n",
       "      <td>0.0573</td>\n",
       "      <td>0.0281</td>\n",
       "      <td>0.0150</td>\n",
       "      <td>0.0180</td>\n",
       "      <td>-0.0166</td>\n",
       "      <td>0.0317</td>\n",
       "    </tr>\n",
       "    <tr>\n",
       "      <th>1997-02</th>\n",
       "      <td>0.0123</td>\n",
       "      <td>0.0298</td>\n",
       "      <td>0.0122</td>\n",
       "      <td>0.0525</td>\n",
       "      <td>0.0101</td>\n",
       "      <td>0.0084</td>\n",
       "      <td>0.0122</td>\n",
       "      <td>0.0175</td>\n",
       "      <td>-0.0006</td>\n",
       "      <td>0.0034</td>\n",
       "      <td>0.0118</td>\n",
       "      <td>0.0426</td>\n",
       "      <td>0.0106</td>\n",
       "    </tr>\n",
       "  </tbody>\n",
       "</table>\n",
       "</div>"
      ],
      "text/plain": [
       "         Convertible Arbitrage  CTA Global  Distressed Securities  \\\n",
       "date                                                                \n",
       "1997-01                 0.0119      0.0393                 0.0178   \n",
       "1997-02                 0.0123      0.0298                 0.0122   \n",
       "\n",
       "         Emerging Markets  Equity Market Neutral  Event Driven  \\\n",
       "date                                                             \n",
       "1997-01            0.0791                 0.0189        0.0213   \n",
       "1997-02            0.0525                 0.0101        0.0084   \n",
       "\n",
       "         Fixed Income Arbitrage  Global Macro  Long/Short Equity  \\\n",
       "date                                                               \n",
       "1997-01                  0.0191        0.0573             0.0281   \n",
       "1997-02                  0.0122        0.0175            -0.0006   \n",
       "\n",
       "         Merger Arbitrage  Relative Value  Short Selling  Funds Of Funds  \n",
       "date                                                                      \n",
       "1997-01            0.0150          0.0180        -0.0166          0.0317  \n",
       "1997-02            0.0034          0.0118         0.0426          0.0106  "
      ]
     },
     "execution_count": 4,
     "metadata": {},
     "output_type": "execute_result"
    }
   ],
   "source": [
    "# Display the first 2 rows of hfi\n",
    "hfi.head(2)"
   ]
  },
  {
   "cell_type": "markdown",
   "metadata": {},
   "source": [
    "## SemiDeviation"
   ]
  },
  {
   "cell_type": "code",
   "execution_count": 5,
   "metadata": {},
   "outputs": [
    {
     "data": {
      "text/plain": [
       "Convertible Arbitrage     0.016536\n",
       "CTA Global                0.023290\n",
       "Distressed Securities     0.017009\n",
       "Emerging Markets          0.032476\n",
       "Equity Market Neutral     0.008115\n",
       "Event Driven              0.016712\n",
       "Fixed Income Arbitrage    0.011517\n",
       "Global Macro              0.014694\n",
       "Long/Short Equity         0.019897\n",
       "Merger Arbitrage          0.009600\n",
       "Relative Value            0.011462\n",
       "Short Selling             0.047655\n",
       "Funds Of Funds            0.015536\n",
       "dtype: float64"
      ]
     },
     "execution_count": 5,
     "metadata": {},
     "output_type": "execute_result"
    }
   ],
   "source": [
    "# let's start by computing the standard deviation for all funds\n",
    "hfi.std(ddof=0)"
   ]
  },
  {
   "cell_type": "markdown",
   "metadata": {},
   "source": [
    "Since standard deviation takes into consideration both the upside and the downside. Therefore, we will adjust the code to so it will only capture the downside."
   ]
  },
  {
   "cell_type": "code",
   "execution_count": 6,
   "metadata": {},
   "outputs": [
    {
     "data": {
      "text/plain": [
       "Convertible Arbitrage     0.019540\n",
       "CTA Global                0.012443\n",
       "Distressed Securities     0.015185\n",
       "Emerging Markets          0.028039\n",
       "Equity Market Neutral     0.009566\n",
       "Event Driven              0.015429\n",
       "Fixed Income Arbitrage    0.017763\n",
       "Global Macro              0.006579\n",
       "Long/Short Equity         0.014051\n",
       "Merger Arbitrage          0.008875\n",
       "Relative Value            0.012244\n",
       "Short Selling             0.027283\n",
       "Funds Of Funds            0.012122\n",
       "dtype: float64"
      ]
     },
     "execution_count": 6,
     "metadata": {},
     "output_type": "execute_result"
    }
   ],
   "source": [
    "hfi[hfi<0].std(ddof=0)"
   ]
  },
  {
   "cell_type": "markdown",
   "metadata": {},
   "source": [
    "We can create a function for semideviation as well"
   ]
  },
  {
   "cell_type": "code",
   "execution_count": 7,
   "metadata": {},
   "outputs": [],
   "source": [
    "def semideviation(r):\n",
    "    \"\"\"\n",
    "    Returns the semideviation aka negative semideviation of r\n",
    "    r must be a Series or a DataFrame, else raises a TypeError\n",
    "    \"\"\"\n",
    "    is_negative = r < 0\n",
    "    return r[is_negative].std(ddof=0)"
   ]
  },
  {
   "cell_type": "code",
   "execution_count": 8,
   "metadata": {},
   "outputs": [
    {
     "data": {
      "text/plain": [
       "Convertible Arbitrage     0.019540\n",
       "CTA Global                0.012443\n",
       "Distressed Securities     0.015185\n",
       "Emerging Markets          0.028039\n",
       "Equity Market Neutral     0.009566\n",
       "Event Driven              0.015429\n",
       "Fixed Income Arbitrage    0.017763\n",
       "Global Macro              0.006579\n",
       "Long/Short Equity         0.014051\n",
       "Merger Arbitrage          0.008875\n",
       "Relative Value            0.012244\n",
       "Short Selling             0.027283\n",
       "Funds Of Funds            0.012122\n",
       "dtype: float64"
      ]
     },
     "execution_count": 8,
     "metadata": {},
     "output_type": "execute_result"
    }
   ],
   "source": [
    "semideviation(hfi)"
   ]
  },
  {
   "cell_type": "code",
   "execution_count": 9,
   "metadata": {},
   "outputs": [
    {
     "data": {
      "text/plain": [
       "Global Macro              0.006579\n",
       "Merger Arbitrage          0.008875\n",
       "Equity Market Neutral     0.009566\n",
       "Funds Of Funds            0.012122\n",
       "Relative Value            0.012244\n",
       "CTA Global                0.012443\n",
       "Long/Short Equity         0.014051\n",
       "Distressed Securities     0.015185\n",
       "Event Driven              0.015429\n",
       "Fixed Income Arbitrage    0.017763\n",
       "Convertible Arbitrage     0.019540\n",
       "Short Selling             0.027283\n",
       "Emerging Markets          0.028039\n",
       "dtype: float64"
      ]
     },
     "execution_count": 9,
     "metadata": {},
     "output_type": "execute_result"
    }
   ],
   "source": [
    "# Sort the values from smallest to largest \n",
    "semideviation(hfi).sort_values()"
   ]
  },
  {
   "cell_type": "markdown",
   "metadata": {},
   "source": [
    "We can also apply this on another dataset"
   ]
  },
  {
   "cell_type": "code",
   "execution_count": 10,
   "metadata": {},
   "outputs": [],
   "source": [
    "def get_ffme_returns():\n",
    "    \"\"\"\n",
    "    Load the Fama-French Dataset for the returns of the Top and Bottom Deciles by MarketCap\n",
    "    \"\"\" \n",
    "    gsf_portfolio = 'https://raw.githubusercontent.com/safarini/GSF/master/002_Portfolios_Formed_on_ME_monthly_EW.csv'\n",
    "    me_m = pd.read_csv(gsf_portfolio, header=0, index_col=0, na_values=-99.99)\n",
    "    rets = me_m[['Stock_02', 'Stock_04','Stock_06']]\n",
    "    rets.columns = ['SmallCap', 'MidCap', 'LargeCap']\n",
    "    rets = rets/100\n",
    "    rets.index = pd.to_datetime(rets.index, format=\"%Y%m\").to_period('M')\n",
    "    return rets"
   ]
  },
  {
   "cell_type": "code",
   "execution_count": 11,
   "metadata": {},
   "outputs": [
    {
     "data": {
      "text/plain": [
       "SmallCap    0.052313\n",
       "MidCap      0.042677\n",
       "LargeCap    0.051307\n",
       "dtype: float64"
      ]
     },
     "execution_count": 11,
     "metadata": {},
     "output_type": "execute_result"
    }
   ],
   "source": [
    "ffme = get_ffme_returns()\n",
    "semideviation(ffme)"
   ]
  },
  {
   "cell_type": "markdown",
   "metadata": {},
   "source": [
    "# VaR and CVaR\n",
    "\n",
    "We'll look at three different ways to compute Value At Risk\n",
    "\n",
    "1. Historic VaR\n",
    "2. Parametric Gaussian VaR\n",
    "3. Modified (Cornish-Fisher) VaR\n",
    "\n",
    "To compute the historic VaR at a certain level, say 5%, all we have to do is to find the number such that 5% of the returns fall below that number and 95% of the returns fall above that number. In other words, we want the 5 percentile return.\n",
    "\n",
    "Fortunately, numpy has a `np.percentile` function that computes exactly that."
   ]
  },
  {
   "cell_type": "markdown",
   "metadata": {},
   "source": [
    "The documentation says you give it an array and then you give it q, which is the q-th percentile of the data along the specified access, q should be a number between zero and 100. And we want to run it on just the columns which means axis is equal to zero.\n",
    "\n",
    "Reporting: The idea is that there's a 5% percent chance you're going to lose this amount or more. So you generally try and report these as positive numbers rather than negative numbers, so I'm just going to make one-liner fix here, and I'm going to return negative of that. "
   ]
  },
  {
   "cell_type": "code",
   "execution_count": 12,
   "metadata": {},
   "outputs": [
    {
     "data": {
      "text/plain": [
       "array([0.01576, 0.03169, 0.01966, 0.04247, 0.00814, 0.02535, 0.00787,\n",
       "       0.01499, 0.02598, 0.01047, 0.01174, 0.06783, 0.02047])"
      ]
     },
     "execution_count": 12,
     "metadata": {},
     "output_type": "execute_result"
    }
   ],
   "source": [
    "-np.percentile(hfi, 5, axis = 0)"
   ]
  },
  {
   "cell_type": "markdown",
   "metadata": {},
   "source": [
    "We can also use a function using for loop to arrive at the same result. "
   ]
  },
  {
   "cell_type": "code",
   "execution_count": 13,
   "metadata": {},
   "outputs": [],
   "source": [
    "# 5 is the level\n",
    "def var_historic_0(r, level=5):\n",
    "    for i in r.columns:\n",
    "        print(-round(np.percentile(r[i], level),5))"
   ]
  },
  {
   "cell_type": "code",
   "execution_count": 14,
   "metadata": {},
   "outputs": [
    {
     "name": "stdout",
     "output_type": "stream",
     "text": [
      "0.01576\n",
      "0.03169\n",
      "0.01966\n",
      "0.04247\n",
      "0.00814\n",
      "0.02535\n",
      "0.00787\n",
      "0.01499\n",
      "0.02598\n",
      "0.01047\n",
      "0.01174\n",
      "0.06783\n",
      "0.02047\n"
     ]
    }
   ],
   "source": [
    "var_historic_0(hfi)"
   ]
  },
  {
   "cell_type": "markdown",
   "metadata": {},
   "source": [
    "The way I'd interpret that is that in the first column, convertible arbitrage, there's a five percent chance that in any given month, you're going to lose about 1.5 percent or worse. "
   ]
  },
  {
   "cell_type": "markdown",
   "metadata": {},
   "source": [
    "We can also develop another function without using for loop, however before we jump into the function lets get yourself familiar with the .isinstance() and .aggregate() functions."
   ]
  },
  {
   "cell_type": "code",
   "execution_count": 15,
   "metadata": {},
   "outputs": [
    {
     "name": "stdout",
     "output_type": "stream",
     "text": [
      "True\n",
      "False\n"
     ]
    }
   ],
   "source": [
    "# if isinstance(r, pd.DataFrame): means if r is a DataFrame then rerun True otherwise return False\n",
    "# if isinstance(r, pd.Series   ): means if r is a Series then rerun True otherwise return False\n",
    "print(isinstance(hfi, pd.DataFrame))\n",
    "print(isinstance(hfi, pd.Series))"
   ]
  },
  {
   "cell_type": "markdown",
   "metadata": {},
   "source": [
    ".aggregate() function, allow you to apply the function over all the columns of the DataFrame, therefore it will be applied on all the series"
   ]
  },
  {
   "cell_type": "code",
   "execution_count": 16,
   "metadata": {},
   "outputs": [],
   "source": [
    "def var_historic(r, level=5):\n",
    "    \"\"\"\n",
    "    Returns the historic Value at Risk at a specified level\n",
    "    i.e. returns the number such that \"level\" percent of the returns\n",
    "    fall below that number, and the (100-level) percent are above\n",
    "    \"\"\"\n",
    "    # if isinstance(r, pd.DataFrame): means if r is a DataFrame then rerun True otherwise return False\n",
    "    if isinstance(r, pd.DataFrame):\n",
    "    # r.aggregate() now applied on all coumns (Series) of the Dataframe therefore when var_historic is called inside the function it will returen false and jump to the elif isinstance(r, pd.Series):\n",
    "    # split all the columns, so now all the columns are series then call the var historical function on all the serieses (columns)\n",
    "        return r.aggregate(var_historic, level=level)\n",
    "    elif isinstance(r, pd.Series):\n",
    "        return -np.percentile(r, level)\n",
    "    else:\n",
    "        raise TypeError(\"Expected r to be a Series or DataFrame\")   "
   ]
  },
  {
   "cell_type": "code",
   "execution_count": 17,
   "metadata": {},
   "outputs": [
    {
     "data": {
      "text/plain": [
       "pandas.core.frame.DataFrame"
      ]
     },
     "execution_count": 17,
     "metadata": {},
     "output_type": "execute_result"
    }
   ],
   "source": [
    "type(hfi)"
   ]
  },
  {
   "cell_type": "code",
   "execution_count": 18,
   "metadata": {},
   "outputs": [
    {
     "data": {
      "text/plain": [
       "Convertible Arbitrage     0.01576\n",
       "CTA Global                0.03169\n",
       "Distressed Securities     0.01966\n",
       "Emerging Markets          0.04247\n",
       "Equity Market Neutral     0.00814\n",
       "Event Driven              0.02535\n",
       "Fixed Income Arbitrage    0.00787\n",
       "Global Macro              0.01499\n",
       "Long/Short Equity         0.02598\n",
       "Merger Arbitrage          0.01047\n",
       "Relative Value            0.01174\n",
       "Short Selling             0.06783\n",
       "Funds Of Funds            0.02047\n",
       "dtype: float64"
      ]
     },
     "execution_count": 18,
     "metadata": {},
     "output_type": "execute_result"
    }
   ],
   "source": [
    "var_historic(hfi, level=5)"
   ]
  },
  {
   "cell_type": "markdown",
   "metadata": {},
   "source": [
    "Note that for reporting purposes, it is common to invert the sign so we report a positive number to represent the _loss_ i.e. the amount that is at risk."
   ]
  },
  {
   "cell_type": "markdown",
   "metadata": {},
   "source": [
    "# Conditional VaR aka Beyond VaR\n",
    "\n",
    "Now that we have the VaR, the CVaR is very easy. All we need is to find the mean of the numbers that fell below the VaR!"
   ]
  },
  {
   "cell_type": "code",
   "execution_count": 19,
   "metadata": {},
   "outputs": [
    {
     "data": {
      "text/html": [
       "<div>\n",
       "<style scoped>\n",
       "    .dataframe tbody tr th:only-of-type {\n",
       "        vertical-align: middle;\n",
       "    }\n",
       "\n",
       "    .dataframe tbody tr th {\n",
       "        vertical-align: top;\n",
       "    }\n",
       "\n",
       "    .dataframe thead th {\n",
       "        text-align: right;\n",
       "    }\n",
       "</style>\n",
       "<table border=\"1\" class=\"dataframe\">\n",
       "  <thead>\n",
       "    <tr style=\"text-align: right;\">\n",
       "      <th></th>\n",
       "      <th>Convertible Arbitrage</th>\n",
       "      <th>CTA Global</th>\n",
       "      <th>Distressed Securities</th>\n",
       "      <th>Emerging Markets</th>\n",
       "      <th>Equity Market Neutral</th>\n",
       "      <th>Event Driven</th>\n",
       "      <th>Fixed Income Arbitrage</th>\n",
       "      <th>Global Macro</th>\n",
       "      <th>Long/Short Equity</th>\n",
       "      <th>Merger Arbitrage</th>\n",
       "      <th>Relative Value</th>\n",
       "      <th>Short Selling</th>\n",
       "      <th>Funds Of Funds</th>\n",
       "    </tr>\n",
       "    <tr>\n",
       "      <th>date</th>\n",
       "      <th></th>\n",
       "      <th></th>\n",
       "      <th></th>\n",
       "      <th></th>\n",
       "      <th></th>\n",
       "      <th></th>\n",
       "      <th></th>\n",
       "      <th></th>\n",
       "      <th></th>\n",
       "      <th></th>\n",
       "      <th></th>\n",
       "      <th></th>\n",
       "      <th></th>\n",
       "    </tr>\n",
       "  </thead>\n",
       "  <tbody>\n",
       "    <tr>\n",
       "      <th>1997-01</th>\n",
       "      <td>0.0119</td>\n",
       "      <td>0.0393</td>\n",
       "      <td>0.0178</td>\n",
       "      <td>0.0791</td>\n",
       "      <td>0.0189</td>\n",
       "      <td>0.0213</td>\n",
       "      <td>0.0191</td>\n",
       "      <td>0.0573</td>\n",
       "      <td>0.0281</td>\n",
       "      <td>0.0150</td>\n",
       "      <td>0.0180</td>\n",
       "      <td>-0.0166</td>\n",
       "      <td>0.0317</td>\n",
       "    </tr>\n",
       "    <tr>\n",
       "      <th>1997-02</th>\n",
       "      <td>0.0123</td>\n",
       "      <td>0.0298</td>\n",
       "      <td>0.0122</td>\n",
       "      <td>0.0525</td>\n",
       "      <td>0.0101</td>\n",
       "      <td>0.0084</td>\n",
       "      <td>0.0122</td>\n",
       "      <td>0.0175</td>\n",
       "      <td>-0.0006</td>\n",
       "      <td>0.0034</td>\n",
       "      <td>0.0118</td>\n",
       "      <td>0.0426</td>\n",
       "      <td>0.0106</td>\n",
       "    </tr>\n",
       "    <tr>\n",
       "      <th>1997-03</th>\n",
       "      <td>0.0078</td>\n",
       "      <td>-0.0021</td>\n",
       "      <td>-0.0012</td>\n",
       "      <td>-0.0120</td>\n",
       "      <td>0.0016</td>\n",
       "      <td>-0.0023</td>\n",
       "      <td>0.0109</td>\n",
       "      <td>-0.0119</td>\n",
       "      <td>-0.0084</td>\n",
       "      <td>0.0060</td>\n",
       "      <td>0.0010</td>\n",
       "      <td>0.0778</td>\n",
       "      <td>-0.0077</td>\n",
       "    </tr>\n",
       "    <tr>\n",
       "      <th>1997-04</th>\n",
       "      <td>0.0086</td>\n",
       "      <td>-0.0170</td>\n",
       "      <td>0.0030</td>\n",
       "      <td>0.0119</td>\n",
       "      <td>0.0119</td>\n",
       "      <td>-0.0005</td>\n",
       "      <td>0.0130</td>\n",
       "      <td>0.0172</td>\n",
       "      <td>0.0084</td>\n",
       "      <td>-0.0001</td>\n",
       "      <td>0.0122</td>\n",
       "      <td>-0.0129</td>\n",
       "      <td>0.0009</td>\n",
       "    </tr>\n",
       "    <tr>\n",
       "      <th>1997-05</th>\n",
       "      <td>0.0156</td>\n",
       "      <td>-0.0015</td>\n",
       "      <td>0.0233</td>\n",
       "      <td>0.0315</td>\n",
       "      <td>0.0189</td>\n",
       "      <td>0.0346</td>\n",
       "      <td>0.0118</td>\n",
       "      <td>0.0108</td>\n",
       "      <td>0.0394</td>\n",
       "      <td>0.0197</td>\n",
       "      <td>0.0173</td>\n",
       "      <td>-0.0737</td>\n",
       "      <td>0.0275</td>\n",
       "    </tr>\n",
       "  </tbody>\n",
       "</table>\n",
       "</div>"
      ],
      "text/plain": [
       "         Convertible Arbitrage  CTA Global  Distressed Securities  \\\n",
       "date                                                                \n",
       "1997-01                 0.0119      0.0393                 0.0178   \n",
       "1997-02                 0.0123      0.0298                 0.0122   \n",
       "1997-03                 0.0078     -0.0021                -0.0012   \n",
       "1997-04                 0.0086     -0.0170                 0.0030   \n",
       "1997-05                 0.0156     -0.0015                 0.0233   \n",
       "\n",
       "         Emerging Markets  Equity Market Neutral  Event Driven  \\\n",
       "date                                                             \n",
       "1997-01            0.0791                 0.0189        0.0213   \n",
       "1997-02            0.0525                 0.0101        0.0084   \n",
       "1997-03           -0.0120                 0.0016       -0.0023   \n",
       "1997-04            0.0119                 0.0119       -0.0005   \n",
       "1997-05            0.0315                 0.0189        0.0346   \n",
       "\n",
       "         Fixed Income Arbitrage  Global Macro  Long/Short Equity  \\\n",
       "date                                                               \n",
       "1997-01                  0.0191        0.0573             0.0281   \n",
       "1997-02                  0.0122        0.0175            -0.0006   \n",
       "1997-03                  0.0109       -0.0119            -0.0084   \n",
       "1997-04                  0.0130        0.0172             0.0084   \n",
       "1997-05                  0.0118        0.0108             0.0394   \n",
       "\n",
       "         Merger Arbitrage  Relative Value  Short Selling  Funds Of Funds  \n",
       "date                                                                      \n",
       "1997-01            0.0150          0.0180        -0.0166          0.0317  \n",
       "1997-02            0.0034          0.0118         0.0426          0.0106  \n",
       "1997-03            0.0060          0.0010         0.0778         -0.0077  \n",
       "1997-04           -0.0001          0.0122        -0.0129          0.0009  \n",
       "1997-05            0.0197          0.0173        -0.0737          0.0275  "
      ]
     },
     "execution_count": 19,
     "metadata": {},
     "output_type": "execute_result"
    }
   ],
   "source": [
    "hfi.head()"
   ]
  },
  {
   "cell_type": "code",
   "execution_count": 20,
   "metadata": {},
   "outputs": [
    {
     "data": {
      "text/plain": [
       "Convertible Arbitrage    -0.01576\n",
       "CTA Global               -0.03169\n",
       "Distressed Securities    -0.01966\n",
       "Emerging Markets         -0.04247\n",
       "Equity Market Neutral    -0.00814\n",
       "Event Driven             -0.02535\n",
       "Fixed Income Arbitrage   -0.00787\n",
       "Global Macro             -0.01499\n",
       "Long/Short Equity        -0.02598\n",
       "Merger Arbitrage         -0.01047\n",
       "Relative Value           -0.01174\n",
       "Short Selling            -0.06783\n",
       "Funds Of Funds           -0.02047\n",
       "dtype: float64"
      ]
     },
     "execution_count": 20,
     "metadata": {},
     "output_type": "execute_result"
    }
   ],
   "source": [
    "-var_historic(hfi)"
   ]
  },
  {
   "cell_type": "code",
   "execution_count": 21,
   "metadata": {},
   "outputs": [
    {
     "data": {
      "text/html": [
       "<div>\n",
       "<style scoped>\n",
       "    .dataframe tbody tr th:only-of-type {\n",
       "        vertical-align: middle;\n",
       "    }\n",
       "\n",
       "    .dataframe tbody tr th {\n",
       "        vertical-align: top;\n",
       "    }\n",
       "\n",
       "    .dataframe thead th {\n",
       "        text-align: right;\n",
       "    }\n",
       "</style>\n",
       "<table border=\"1\" class=\"dataframe\">\n",
       "  <thead>\n",
       "    <tr style=\"text-align: right;\">\n",
       "      <th></th>\n",
       "      <th>Convertible Arbitrage</th>\n",
       "      <th>CTA Global</th>\n",
       "      <th>Distressed Securities</th>\n",
       "      <th>Emerging Markets</th>\n",
       "      <th>Equity Market Neutral</th>\n",
       "      <th>Event Driven</th>\n",
       "      <th>Fixed Income Arbitrage</th>\n",
       "      <th>Global Macro</th>\n",
       "      <th>Long/Short Equity</th>\n",
       "      <th>Merger Arbitrage</th>\n",
       "      <th>Relative Value</th>\n",
       "      <th>Short Selling</th>\n",
       "      <th>Funds Of Funds</th>\n",
       "    </tr>\n",
       "    <tr>\n",
       "      <th>date</th>\n",
       "      <th></th>\n",
       "      <th></th>\n",
       "      <th></th>\n",
       "      <th></th>\n",
       "      <th></th>\n",
       "      <th></th>\n",
       "      <th></th>\n",
       "      <th></th>\n",
       "      <th></th>\n",
       "      <th></th>\n",
       "      <th></th>\n",
       "      <th></th>\n",
       "      <th></th>\n",
       "    </tr>\n",
       "  </thead>\n",
       "  <tbody>\n",
       "    <tr>\n",
       "      <th>1997-01</th>\n",
       "      <td>False</td>\n",
       "      <td>False</td>\n",
       "      <td>False</td>\n",
       "      <td>False</td>\n",
       "      <td>False</td>\n",
       "      <td>False</td>\n",
       "      <td>False</td>\n",
       "      <td>False</td>\n",
       "      <td>False</td>\n",
       "      <td>False</td>\n",
       "      <td>False</td>\n",
       "      <td>False</td>\n",
       "      <td>False</td>\n",
       "    </tr>\n",
       "    <tr>\n",
       "      <th>1997-02</th>\n",
       "      <td>False</td>\n",
       "      <td>False</td>\n",
       "      <td>False</td>\n",
       "      <td>False</td>\n",
       "      <td>False</td>\n",
       "      <td>False</td>\n",
       "      <td>False</td>\n",
       "      <td>False</td>\n",
       "      <td>False</td>\n",
       "      <td>False</td>\n",
       "      <td>False</td>\n",
       "      <td>False</td>\n",
       "      <td>False</td>\n",
       "    </tr>\n",
       "    <tr>\n",
       "      <th>1997-03</th>\n",
       "      <td>False</td>\n",
       "      <td>False</td>\n",
       "      <td>False</td>\n",
       "      <td>False</td>\n",
       "      <td>False</td>\n",
       "      <td>False</td>\n",
       "      <td>False</td>\n",
       "      <td>False</td>\n",
       "      <td>False</td>\n",
       "      <td>False</td>\n",
       "      <td>False</td>\n",
       "      <td>False</td>\n",
       "      <td>False</td>\n",
       "    </tr>\n",
       "    <tr>\n",
       "      <th>1997-04</th>\n",
       "      <td>False</td>\n",
       "      <td>False</td>\n",
       "      <td>False</td>\n",
       "      <td>False</td>\n",
       "      <td>False</td>\n",
       "      <td>False</td>\n",
       "      <td>False</td>\n",
       "      <td>False</td>\n",
       "      <td>False</td>\n",
       "      <td>False</td>\n",
       "      <td>False</td>\n",
       "      <td>False</td>\n",
       "      <td>False</td>\n",
       "    </tr>\n",
       "    <tr>\n",
       "      <th>1997-05</th>\n",
       "      <td>False</td>\n",
       "      <td>False</td>\n",
       "      <td>False</td>\n",
       "      <td>False</td>\n",
       "      <td>False</td>\n",
       "      <td>False</td>\n",
       "      <td>False</td>\n",
       "      <td>False</td>\n",
       "      <td>False</td>\n",
       "      <td>False</td>\n",
       "      <td>False</td>\n",
       "      <td>True</td>\n",
       "      <td>False</td>\n",
       "    </tr>\n",
       "  </tbody>\n",
       "</table>\n",
       "</div>"
      ],
      "text/plain": [
       "         Convertible Arbitrage  CTA Global  Distressed Securities  \\\n",
       "date                                                                \n",
       "1997-01                  False       False                  False   \n",
       "1997-02                  False       False                  False   \n",
       "1997-03                  False       False                  False   \n",
       "1997-04                  False       False                  False   \n",
       "1997-05                  False       False                  False   \n",
       "\n",
       "         Emerging Markets  Equity Market Neutral  Event Driven  \\\n",
       "date                                                             \n",
       "1997-01             False                  False         False   \n",
       "1997-02             False                  False         False   \n",
       "1997-03             False                  False         False   \n",
       "1997-04             False                  False         False   \n",
       "1997-05             False                  False         False   \n",
       "\n",
       "         Fixed Income Arbitrage  Global Macro  Long/Short Equity  \\\n",
       "date                                                               \n",
       "1997-01                   False         False              False   \n",
       "1997-02                   False         False              False   \n",
       "1997-03                   False         False              False   \n",
       "1997-04                   False         False              False   \n",
       "1997-05                   False         False              False   \n",
       "\n",
       "         Merger Arbitrage  Relative Value  Short Selling  Funds Of Funds  \n",
       "date                                                                      \n",
       "1997-01             False           False          False           False  \n",
       "1997-02             False           False          False           False  \n",
       "1997-03             False           False          False           False  \n",
       "1997-04             False           False          False           False  \n",
       "1997-05             False           False           True           False  "
      ]
     },
     "execution_count": 21,
     "metadata": {},
     "output_type": "execute_result"
    }
   ],
   "source": [
    "is_beyond = hfi <= -var_historic(hfi)\n",
    "is_beyond.head()"
   ]
  },
  {
   "cell_type": "code",
   "execution_count": 22,
   "metadata": {},
   "outputs": [
    {
     "data": {
      "text/html": [
       "<div>\n",
       "<style scoped>\n",
       "    .dataframe tbody tr th:only-of-type {\n",
       "        vertical-align: middle;\n",
       "    }\n",
       "\n",
       "    .dataframe tbody tr th {\n",
       "        vertical-align: top;\n",
       "    }\n",
       "\n",
       "    .dataframe thead th {\n",
       "        text-align: right;\n",
       "    }\n",
       "</style>\n",
       "<table border=\"1\" class=\"dataframe\">\n",
       "  <thead>\n",
       "    <tr style=\"text-align: right;\">\n",
       "      <th></th>\n",
       "      <th>Convertible Arbitrage</th>\n",
       "      <th>CTA Global</th>\n",
       "      <th>Distressed Securities</th>\n",
       "      <th>Emerging Markets</th>\n",
       "      <th>Equity Market Neutral</th>\n",
       "      <th>Event Driven</th>\n",
       "      <th>Fixed Income Arbitrage</th>\n",
       "      <th>Global Macro</th>\n",
       "      <th>Long/Short Equity</th>\n",
       "      <th>Merger Arbitrage</th>\n",
       "      <th>Relative Value</th>\n",
       "      <th>Short Selling</th>\n",
       "      <th>Funds Of Funds</th>\n",
       "    </tr>\n",
       "    <tr>\n",
       "      <th>date</th>\n",
       "      <th></th>\n",
       "      <th></th>\n",
       "      <th></th>\n",
       "      <th></th>\n",
       "      <th></th>\n",
       "      <th></th>\n",
       "      <th></th>\n",
       "      <th></th>\n",
       "      <th></th>\n",
       "      <th></th>\n",
       "      <th></th>\n",
       "      <th></th>\n",
       "      <th></th>\n",
       "    </tr>\n",
       "  </thead>\n",
       "  <tbody>\n",
       "    <tr>\n",
       "      <th>1997-01</th>\n",
       "      <td>NaN</td>\n",
       "      <td>NaN</td>\n",
       "      <td>NaN</td>\n",
       "      <td>NaN</td>\n",
       "      <td>NaN</td>\n",
       "      <td>NaN</td>\n",
       "      <td>NaN</td>\n",
       "      <td>NaN</td>\n",
       "      <td>NaN</td>\n",
       "      <td>NaN</td>\n",
       "      <td>NaN</td>\n",
       "      <td>NaN</td>\n",
       "      <td>NaN</td>\n",
       "    </tr>\n",
       "    <tr>\n",
       "      <th>1997-02</th>\n",
       "      <td>NaN</td>\n",
       "      <td>NaN</td>\n",
       "      <td>NaN</td>\n",
       "      <td>NaN</td>\n",
       "      <td>NaN</td>\n",
       "      <td>NaN</td>\n",
       "      <td>NaN</td>\n",
       "      <td>NaN</td>\n",
       "      <td>NaN</td>\n",
       "      <td>NaN</td>\n",
       "      <td>NaN</td>\n",
       "      <td>NaN</td>\n",
       "      <td>NaN</td>\n",
       "    </tr>\n",
       "    <tr>\n",
       "      <th>1997-03</th>\n",
       "      <td>NaN</td>\n",
       "      <td>NaN</td>\n",
       "      <td>NaN</td>\n",
       "      <td>NaN</td>\n",
       "      <td>NaN</td>\n",
       "      <td>NaN</td>\n",
       "      <td>NaN</td>\n",
       "      <td>NaN</td>\n",
       "      <td>NaN</td>\n",
       "      <td>NaN</td>\n",
       "      <td>NaN</td>\n",
       "      <td>NaN</td>\n",
       "      <td>NaN</td>\n",
       "    </tr>\n",
       "    <tr>\n",
       "      <th>1997-04</th>\n",
       "      <td>NaN</td>\n",
       "      <td>NaN</td>\n",
       "      <td>NaN</td>\n",
       "      <td>NaN</td>\n",
       "      <td>NaN</td>\n",
       "      <td>NaN</td>\n",
       "      <td>NaN</td>\n",
       "      <td>NaN</td>\n",
       "      <td>NaN</td>\n",
       "      <td>NaN</td>\n",
       "      <td>NaN</td>\n",
       "      <td>NaN</td>\n",
       "      <td>NaN</td>\n",
       "    </tr>\n",
       "    <tr>\n",
       "      <th>1997-05</th>\n",
       "      <td>NaN</td>\n",
       "      <td>NaN</td>\n",
       "      <td>NaN</td>\n",
       "      <td>NaN</td>\n",
       "      <td>NaN</td>\n",
       "      <td>NaN</td>\n",
       "      <td>NaN</td>\n",
       "      <td>NaN</td>\n",
       "      <td>NaN</td>\n",
       "      <td>NaN</td>\n",
       "      <td>NaN</td>\n",
       "      <td>-0.0737</td>\n",
       "      <td>NaN</td>\n",
       "    </tr>\n",
       "  </tbody>\n",
       "</table>\n",
       "</div>"
      ],
      "text/plain": [
       "         Convertible Arbitrage  CTA Global  Distressed Securities  \\\n",
       "date                                                                \n",
       "1997-01                    NaN         NaN                    NaN   \n",
       "1997-02                    NaN         NaN                    NaN   \n",
       "1997-03                    NaN         NaN                    NaN   \n",
       "1997-04                    NaN         NaN                    NaN   \n",
       "1997-05                    NaN         NaN                    NaN   \n",
       "\n",
       "         Emerging Markets  Equity Market Neutral  Event Driven  \\\n",
       "date                                                             \n",
       "1997-01               NaN                    NaN           NaN   \n",
       "1997-02               NaN                    NaN           NaN   \n",
       "1997-03               NaN                    NaN           NaN   \n",
       "1997-04               NaN                    NaN           NaN   \n",
       "1997-05               NaN                    NaN           NaN   \n",
       "\n",
       "         Fixed Income Arbitrage  Global Macro  Long/Short Equity  \\\n",
       "date                                                               \n",
       "1997-01                     NaN           NaN                NaN   \n",
       "1997-02                     NaN           NaN                NaN   \n",
       "1997-03                     NaN           NaN                NaN   \n",
       "1997-04                     NaN           NaN                NaN   \n",
       "1997-05                     NaN           NaN                NaN   \n",
       "\n",
       "         Merger Arbitrage  Relative Value  Short Selling  Funds Of Funds  \n",
       "date                                                                      \n",
       "1997-01               NaN             NaN            NaN             NaN  \n",
       "1997-02               NaN             NaN            NaN             NaN  \n",
       "1997-03               NaN             NaN            NaN             NaN  \n",
       "1997-04               NaN             NaN            NaN             NaN  \n",
       "1997-05               NaN             NaN        -0.0737             NaN  "
      ]
     },
     "execution_count": 22,
     "metadata": {},
     "output_type": "execute_result"
    }
   ],
   "source": [
    "hfi[hfi <= -var_historic(hfi)].head()"
   ]
  },
  {
   "cell_type": "code",
   "execution_count": 23,
   "metadata": {},
   "outputs": [
    {
     "data": {
      "text/plain": [
       "Convertible Arbitrage     0.036550\n",
       "CTA Global                0.041264\n",
       "Distressed Securities     0.036429\n",
       "Emerging Markets          0.072364\n",
       "Equity Market Neutral     0.016879\n",
       "Event Driven              0.038336\n",
       "Fixed Income Arbitrage    0.028257\n",
       "Global Macro              0.020629\n",
       "Long/Short Equity         0.041943\n",
       "Merger Arbitrage          0.019143\n",
       "Relative Value            0.024650\n",
       "Short Selling             0.096821\n",
       "Funds Of Funds            0.033207\n",
       "dtype: float64"
      ]
     },
     "execution_count": 23,
     "metadata": {},
     "output_type": "execute_result"
    }
   ],
   "source": [
    "-hfi[is_beyond].mean()"
   ]
  },
  {
   "cell_type": "code",
   "execution_count": 24,
   "metadata": {},
   "outputs": [],
   "source": [
    "def cvar_historic(r, level=5):\n",
    "    \"\"\"\n",
    "    Computes the Conditional VaR of Series or DataFrame\n",
    "    \"\"\"\n",
    "    if isinstance(r, pd.Series):\n",
    "        is_beyond = r <= -var_historic(r, level=level)\n",
    "        return -r[is_beyond].mean()\n",
    "    elif isinstance(r, pd.DataFrame):\n",
    "        return r.aggregate(cvar_historic, level=level)\n",
    "    else:\n",
    "        raise TypeError(\"Expected r to be a Series or DataFrame\")"
   ]
  },
  {
   "cell_type": "code",
   "execution_count": 25,
   "metadata": {},
   "outputs": [
    {
     "data": {
      "text/plain": [
       "Convertible Arbitrage     0.036550\n",
       "CTA Global                0.041264\n",
       "Distressed Securities     0.036429\n",
       "Emerging Markets          0.072364\n",
       "Equity Market Neutral     0.016879\n",
       "Event Driven              0.038336\n",
       "Fixed Income Arbitrage    0.028257\n",
       "Global Macro              0.020629\n",
       "Long/Short Equity         0.041943\n",
       "Merger Arbitrage          0.019143\n",
       "Relative Value            0.024650\n",
       "Short Selling             0.096821\n",
       "Funds Of Funds            0.033207\n",
       "dtype: float64"
      ]
     },
     "execution_count": 25,
     "metadata": {},
     "output_type": "execute_result"
    }
   ],
   "source": [
    "cvar_historic(hfi, level=5)"
   ]
  },
  {
   "cell_type": "code",
   "execution_count": 26,
   "metadata": {},
   "outputs": [
    {
     "data": {
      "text/plain": [
       "SmallCap    0.160965\n",
       "MidCap      0.128909\n",
       "LargeCap    0.158491\n",
       "dtype: float64"
      ]
     },
     "execution_count": 26,
     "metadata": {},
     "output_type": "execute_result"
    }
   ],
   "source": [
    "cvar_historic(ffme)"
   ]
  },
  {
   "cell_type": "markdown",
   "metadata": {},
   "source": [
    "## Parametric Gaussian VaR\n",
    "\n",
    "The parametric method VAR (also known as Variance/Covariance VAR) calculation is the most common form used in practice with hedge fund managers. This method is popular because the only variables you need to do the calculation are the mean and standard deviation of the portfolio. The biggest assumption that mangers using Parametric VAR are making is that the returns from their portfolios are normally distributed. This allows the manager to use the calculated standard deviation to compute a standard normal z score to determine his/her risk position with a degree of confidence right off of a standard normal table. This is an important assumption because it allows the manager to use the normal distribution as a proxy for what expected returns might look like. In practice, this assumption of return normality has proven to be extremely risky. Indeed, this was the biggest mistake that LTCM made it gravely underestimating their portfolio risks.\n",
    "\n",
    "An example of a parametric VAR calculation is as follows:  \n",
    "Standard Deviation ($ terms): $50,000  \n",
    "Mean ($ terms): $35,000   \n",
    "Z Score for 95% confidence: 1.65  \n",
    " \n",
    "Calculated VAR for the period with 95% confidence is: 35,000 - 50,000 (1.65) = -$47,500  \n",
    "\n",
    "The idea behind this is very simple. If a set of returns is normally distributed, we know, for instance, that 50% of the returns are below the mean and 50% are above. We also know that approx two thirds of the returns lie within 1 standard deviation. That means one third lie beyond one standard deviation from the mean. Since the normal distribution is symmetric, approximately one sixth (approx 16%) lie below one standard deviation away from the mean. Therefore, if we know the mean and standard deviation and if we assume that the returns are normally distributed, the 16% VaR would be the mean minus one standard deviation. In general we can always convert a percentile point to a z-score (which is the number of standard deviations away from the mean that a number is). Therefore, if we can convert the VaR level (such as 1% or 5%) to a z-score, we can calculate the return level where that percent of returns lie below it.\n",
    "\n",
    "`scipy.stat.norm` contains a function `ppf()` which does exactly that. It takes the cumulative % or the percentile such as 0.05 or 0.01 and gives you the z-score corresponding to that in the normal distribution."
   ]
  },
  {
   "cell_type": "markdown",
   "metadata": {},
   "source": [
    "<img src = 'https://raw.githubusercontent.com/safarini/Pictures/master/The_Normal_Distributionv2.svg.png'>"
   ]
  },
  {
   "cell_type": "code",
   "execution_count": 27,
   "metadata": {},
   "outputs": [
    {
     "data": {
      "text/plain": [
       "0.0"
      ]
     },
     "execution_count": 27,
     "metadata": {},
     "output_type": "execute_result"
    }
   ],
   "source": [
    "# mean of zero has a Z score of zero\n",
    "norm.ppf(.5)"
   ]
  },
  {
   "cell_type": "code",
   "execution_count": 28,
   "metadata": {},
   "outputs": [
    {
     "data": {
      "text/plain": [
       "-1.6448536269514729"
      ]
     },
     "execution_count": 28,
     "metadata": {},
     "output_type": "execute_result"
    }
   ],
   "source": [
    "# Percentile such as 0.05 has a Z score of -1.64\n",
    "z = norm.ppf(.05)\n",
    "z"
   ]
  },
  {
   "cell_type": "markdown",
   "metadata": {},
   "source": [
    "Therefore, all we need to do to estimate the VaR using this method is to find the z-score corresponding to percentile level, and then add that many standard deviations to the mean, to obtain the VaR."
   ]
  },
  {
   "cell_type": "code",
   "execution_count": 29,
   "metadata": {},
   "outputs": [
    {
     "data": {
      "text/plain": [
       "Convertible Arbitrage     0.021691\n",
       "CTA Global                0.034235\n",
       "Distressed Securities     0.021032\n",
       "Emerging Markets          0.047164\n",
       "Equity Market Neutral     0.008850\n",
       "Event Driven              0.021144\n",
       "Fixed Income Arbitrage    0.014579\n",
       "Global Macro              0.018766\n",
       "Long/Short Equity         0.026397\n",
       "Merger Arbitrage          0.010435\n",
       "Relative Value            0.013061\n",
       "Short Selling             0.080086\n",
       "Funds Of Funds            0.021292\n",
       "dtype: float64"
      ]
     },
     "execution_count": 29,
     "metadata": {},
     "output_type": "execute_result"
    }
   ],
   "source": [
    "-(hfi.mean() + z*hfi.std(ddof=0))"
   ]
  },
  {
   "cell_type": "code",
   "execution_count": 30,
   "metadata": {},
   "outputs": [],
   "source": [
    "def var_gaussian(r, level=5):\n",
    "    \"\"\"\n",
    "    Returns the Parametric Gauusian VaR of a Series or DataFrame\n",
    "    \"\"\"\n",
    "    # compute the Z score assuming it was Gaussian\n",
    "    z = norm.ppf(level/100)\n",
    "    return -(r.mean() + z*r.std(ddof=0))"
   ]
  },
  {
   "cell_type": "code",
   "execution_count": 31,
   "metadata": {},
   "outputs": [
    {
     "data": {
      "text/plain": [
       "Convertible Arbitrage     0.021691\n",
       "CTA Global                0.034235\n",
       "Distressed Securities     0.021032\n",
       "Emerging Markets          0.047164\n",
       "Equity Market Neutral     0.008850\n",
       "Event Driven              0.021144\n",
       "Fixed Income Arbitrage    0.014579\n",
       "Global Macro              0.018766\n",
       "Long/Short Equity         0.026397\n",
       "Merger Arbitrage          0.010435\n",
       "Relative Value            0.013061\n",
       "Short Selling             0.080086\n",
       "Funds Of Funds            0.021292\n",
       "dtype: float64"
      ]
     },
     "execution_count": 31,
     "metadata": {},
     "output_type": "execute_result"
    }
   ],
   "source": [
    "var_gaussian(hfi)"
   ]
  },
  {
   "cell_type": "code",
   "execution_count": 32,
   "metadata": {},
   "outputs": [
    {
     "data": {
      "text/plain": [
       "Convertible Arbitrage     0.01576\n",
       "CTA Global                0.03169\n",
       "Distressed Securities     0.01966\n",
       "Emerging Markets          0.04247\n",
       "Equity Market Neutral     0.00814\n",
       "Event Driven              0.02535\n",
       "Fixed Income Arbitrage    0.00787\n",
       "Global Macro              0.01499\n",
       "Long/Short Equity         0.02598\n",
       "Merger Arbitrage          0.01047\n",
       "Relative Value            0.01174\n",
       "Short Selling             0.06783\n",
       "Funds Of Funds            0.02047\n",
       "dtype: float64"
      ]
     },
     "execution_count": 32,
     "metadata": {},
     "output_type": "execute_result"
    }
   ],
   "source": [
    "var_historic(hfi)"
   ]
  },
  {
   "cell_type": "markdown",
   "metadata": {},
   "source": [
    "# Cornish-Fisher Modification\n",
    "\n",
    "The Cornish-Fisher modification is an elegant and simple adjustment.\n",
    "\n",
    "The z-score tells us how many standard deviations away from the mean we need to go to find the VaR. If the returns arent normal, we know that z-score will give us an inaccurate number. The basic idea is that since we can observe the skewness and kurtosis of the data, we can adjust the z-score up or down to come up with a modifed z-score. e.g. intuitively, all other things being equal, if the skewness is negative, we'll decrease the z-score further down, and if the skewness is positive, we'll push it up.\n",
    "\n",
    "The adjusted z-score which we'll call $z_{cornishfisher}$ given by:\n",
    "\n",
    "$$ z_{cornishfisher} = z +\\frac{1}{6}(z^2-1)S + \\frac{1}{24}(z^3-3z)(K-3)-\\frac{1}{36}(2z^3-5z)S^2 $$\n",
    "\n",
    "\n",
    "We can modify the previous function by adding a \"modified\" parameter with a default value of `True` as follows. If `True` then the following piece of code is executed, which modifes `z`:\n",
    "\n",
    "```python\n",
    "    if modified:\n",
    "        # modify the Z score based on observed skewness and kurtosis\n",
    "        s = skewness(r)\n",
    "        k = kurtosis(r)\n",
    "        z = (z +\n",
    "                (z**2 - 1)*s/6 +\n",
    "                (z**3 -3*z)*(k-3)/24 -\n",
    "                (2*z**3 - 5*z)*(s**2)/36\n",
    "            )\n",
    "```\n",
    "We can now compare the different methods:"
   ]
  },
  {
   "cell_type": "code",
   "execution_count": 33,
   "metadata": {},
   "outputs": [
    {
     "data": {
      "text/plain": [
       "array([-2.63959223,  0.17369864, -1.30084204, -1.16706749, -2.12443538,\n",
       "       -1.40915356, -3.94032029,  0.98292188, -0.39022677, -1.32008333,\n",
       "       -1.81546975,  0.76797484, -0.36178308])"
      ]
     },
     "execution_count": 33,
     "metadata": {},
     "output_type": "execute_result"
    }
   ],
   "source": [
    "skew(hfi)"
   ]
  },
  {
   "cell_type": "code",
   "execution_count": 34,
   "metadata": {},
   "outputs": [
    {
     "data": {
      "text/plain": [
       "array([20.28083446, -0.04703963,  4.88998336,  6.25078841, 14.21855526,\n",
       "        5.03582817, 26.84219928,  2.74167945,  1.52389258,  5.73894979,\n",
       "        9.12120787,  3.11777175,  4.07015278])"
      ]
     },
     "execution_count": 34,
     "metadata": {},
     "output_type": "execute_result"
    }
   ],
   "source": [
    "kurtosis(hfi)"
   ]
  },
  {
   "cell_type": "code",
   "execution_count": 35,
   "metadata": {},
   "outputs": [],
   "source": [
    "def var_gaussian(r, level=5, modified=False):\n",
    "    \"\"\"\n",
    "    Returns the Parametric Gauusian VaR of a Series or DataFrame\n",
    "    If \"modified\" is True, then the modified VaR is returned,\n",
    "    using the Cornish-Fisher modification\n",
    "    \"\"\"\n",
    "    # compute the Z score assuming it was Gaussian\n",
    "    z = norm.ppf(level/100)\n",
    "    if modified:\n",
    "        # modify the Z score based on observed skewness and kurtosis\n",
    "        s = skew(r)\n",
    "        k = kurtosis(r)\n",
    "        z = (z +\n",
    "                (z**2 - 1)*s/6 +\n",
    "                (z**3 -3*z)*(k-3)/24 -\n",
    "                (2*z**3 - 5*z)*(s**2)/36\n",
    "            )\n",
    "        \n",
    "    return -(r.mean() + z*r.std(ddof=0))"
   ]
  },
  {
   "cell_type": "code",
   "execution_count": 36,
   "metadata": {},
   "outputs": [
    {
     "data": {
      "text/plain": [
       "<matplotlib.axes._subplots.AxesSubplot at 0x24bae4f7288>"
      ]
     },
     "execution_count": 36,
     "metadata": {},
     "output_type": "execute_result"
    },
    {
     "data": {
      "image/png": "[encoded data removed]",
      "text/plain": [
       "<Figure size 432x288 with 1 Axes>"
      ]
     },
     "metadata": {
      "needs_background": "light"
     },
     "output_type": "display_data"
    }
   ],
   "source": [
    "var_table = [var_gaussian(hfi), \n",
    "             var_gaussian(hfi, modified=True), \n",
    "             var_historic(hfi)]\n",
    "comparison = pd.concat(var_table, axis=1)\n",
    "comparison.columns=['Gaussian', 'Cornish-Fisher', 'Historic']\n",
    "comparison.plot.bar(title=\"Hedge Fund Indices: VaR at 5%\")"
   ]
  },
  {
   "cell_type": "markdown",
   "metadata": {},
   "source": [
    "Note that in some cases, the cornish-fisher VaR is lower i.e. estimates a smaller loss than you would get from a pure gaussian assumption. That can happen if the observed skewness is positive, as is the case for \"Short Selling\" and \"Global Macro\""
   ]
  }
 ],
 "metadata": {
  "kernelspec": {
   "display_name": "Python 3",
   "language": "python",
   "name": "python3"
  },
  "language_info": {
   "codemirror_mode": {
    "name": "ipython",
    "version": 3
   },
   "file_extension": ".py",
   "mimetype": "text/x-python",
   "name": "python",
   "nbconvert_exporter": "python",
   "pygments_lexer": "ipython3",
   "version": "3.7.6"
  }
 },
 "nbformat": 4,
 "nbformat_minor": 2
}
